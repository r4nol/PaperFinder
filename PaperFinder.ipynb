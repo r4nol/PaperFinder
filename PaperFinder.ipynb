{
 "cells": [
  {
   "cell_type": "markdown",
   "metadata": {},
   "source": [
    "# PaperFinder\n",
    "A scientific article recommendation system using Sentence Transformers and cosine similarity."
   ]
  },
  {
   "cell_type": "markdown",
   "metadata": {},
   "source": [
    "# Installing all requirements"
   ]
  },
  {
   "cell_type": "code",
   "execution_count": null,
   "metadata": {},
   "outputs": [],
   "source": [
    "!pip install pandas numpy sentence_transformers rich\n",
    "!pip install torch torchvision torchaudio --index-url https://download.pytorch.org/whl/cu126"
   ]
  },
  {
   "cell_type": "markdown",
   "metadata": {},
   "source": [
    "# Import necessary libraries"
   ]
  },
  {
   "cell_type": "code",
   "execution_count": null,
   "metadata": {},
   "outputs": [],
   "source": [
    "import torch\n",
    "import pandas as pd\n",
    "import ast\n",
    "import numpy as np\n",
    "from sentence_transformers import SentenceTransformer, util\n",
    "from rich.console import Console\n",
    "from rich.table import Table\n",
    "from rich import box"
   ]
  },
  {
   "cell_type": "markdown",
   "metadata": {},
   "source": [
    "# Determine whether to use GPU or CPU"
   ]
  },
  {
   "cell_type": "code",
   "execution_count": null,
   "metadata": {},
   "outputs": [],
   "source": [
    "device = 'cuda' if torch.cuda.is_available() else 'cpu'\n",
    "console = Console()\n",
    "console.print(f\"[bold green]Using device: {device}[/bold green]\")"
   ]
  },
  {
   "cell_type": "markdown",
   "metadata": {},
   "source": [
    "# Load and preprocess dataset"
   ]
  },
  {
   "cell_type": "code",
   "execution_count": null,
   "metadata": {},
   "outputs": [],
   "source": [
    "df = pd.read_csv('arXiv_scientific dataset.csv')\n",
    "df = df.dropna(subset=['summary']).reset_index(drop=True)"
   ]
  },
  {
   "cell_type": "markdown",
   "metadata": {},
   "source": [
    "# Clean summary text by removing unnecessary whitespace and line breaks"
   ]
  },
  {
   "cell_type": "code",
   "execution_count": null,
   "metadata": {},
   "outputs": [],
   "source": [
    "df['summary'] = df['summary'].str.replace('\\n', ' ')\n",
    "df['summary'] = df['summary'].str.replace('\\r', ' ')\n",
    "df['summary'] = df['summary'].str.replace('\\t', ' ')\n",
    "df['summary'] = df['summary'].str.replace('  ', ' ')\n",
    "df['summary'] = df['summary'].str.strip()"
   ]
  },
  {
   "cell_type": "markdown",
   "metadata": {},
   "source": [
    "# Load the SentenceTransformer model for semantic similarity search"
   ]
  },
  {
   "cell_type": "code",
   "execution_count": null,
   "metadata": {},
   "outputs": [],
   "source": [
    "model = SentenceTransformer('paraphrase-multilingual-MiniLM-L12-v2', device=device)"
   ]
  },
  {
   "cell_type": "markdown",
   "metadata": {},
   "source": [
    "# Encode summaries into dense vector representations"
   ]
  },
  {
   "cell_type": "code",
   "execution_count": null,
   "metadata": {},
   "outputs": [],
   "source": [
    "summaries = df['summary'].tolist()\n",
    "desc_embeddings = model.encode(summaries, convert_to_tensor=True, device=device)"
   ]
  },
  {
   "cell_type": "code",
   "execution_count": null,
   "metadata": {},
   "outputs": [],
   "source": [
    "def suggest_article(query, model, desc_embeddings, df, top_n=5):\n",
    "    query_embedding = model.encode(query, convert_to_tensor=True, device=device)\n",
    "    cosine_scores = util.cos_sim(query_embedding, desc_embeddings)[0]\n",
    "    cosine_scores_cpu = cosine_scores.cpu().numpy()\n",
    "    \n",
    "    # Retrieve top N indices with highest similarity scores\n",
    "    top_indices = np.argpartition(-cosine_scores_cpu, range(top_n))[:top_n]\n",
    "    top_indices = top_indices[np.argsort(-cosine_scores_cpu[top_indices])]\n",
    "    \n",
    "    # Select the relevant articles and compute match percentages\n",
    "    suggested_df = df.iloc[top_indices][['title', 'category', 'published_date', 'authors', 'summary']].copy()\n",
    "    suggested_df['match_percentage'] = cosine_scores_cpu[top_indices] * 100\n",
    "    \n",
    "    return suggested_df"
   ]
  },
  {
   "cell_type": "code",
   "execution_count": null,
   "metadata": {},
   "outputs": [],
   "source": [
    "def display_suggestions(suggestions: pd.DataFrame):\n",
    "    table = Table(\n",
    "        title=\"[bold bright_blue]Recommended articles[/bold bright_blue]\",\n",
    "        title_style=\"bold underline\",\n",
    "        box=box.DOUBLE_EDGE,\n",
    "        border_style=\"bright_green\",\n",
    "        show_lines=True,\n",
    "        padding=(0, 1)\n",
    "    )\n",
    "    table.add_column(\"Title\", style=\"bold cyan\", overflow=\"fold\")\n",
    "    table.add_column(\"Category\", style=\"green\", overflow=\"fold\", justify=\"left\")\n",
    "    table.add_column(\"Published date\", style=\"magenta\")\n",
    "    table.add_column(\"Authors\", style=\"yellow\", overflow=\"fold\")\n",
    "    table.add_column(\"Summary\", style=\"orchid\", overflow=\"fold\")\n",
    "    table.add_column(\"Match\", style=\"bright_red\")\n",
    "    \n",
    "    for _, row in suggestions.iterrows():\n",
    "        table.add_row(\n",
    "            f\"[bold]{row.get('title', 'N/A')}[/bold]\",\n",
    "            row.get('category', 'N/A'),\n",
    "            str(row.get('published_date', 'N/A')),\n",
    "            \", \".join(ast.literal_eval(row.get('authors', '[]'))),\n",
    "            row.get('summary', 'N/A'),\n",
    "            f\"{row.get('match_percentage', 0):.2f}%\"\n",
    "        )\n",
    "    \n",
    "    console.print(table)"
   ]
  },
  {
   "cell_type": "markdown",
   "metadata": {},
   "source": [
    "# Interactive loop for querying articles"
   ]
  },
  {
   "cell_type": "code",
   "execution_count": null,
   "metadata": {},
   "outputs": [],
   "source": [
    "while True:\n",
    "    query = input(\"Enter query (or 'exit' to stop): \")\n",
    "    if query.lower() == 'exit':\n",
    "        break\n",
    "    \n",
    "    suggestions = suggest_article(query, model, desc_embeddings, df, top_n=5)\n",
    "    display_suggestions(suggestions)"
   ]
  }
 ],
 "metadata": {
  "kernelspec": {
   "display_name": "Python 3",
   "language": "python",
   "name": "python3"
  },
  "language_info": {
   "codemirror_mode": {
    "name": "ipython",
    "version": 3
   },
   "file_extension": ".py",
   "mimetype": "text/x-python",
   "name": "python",
   "nbconvert_exporter": "python",
   "pygments_lexer": "ipython3",
   "version": "3.8.10"
  }
 },
 "nbformat": 4,
 "nbformat_minor": 4
}
